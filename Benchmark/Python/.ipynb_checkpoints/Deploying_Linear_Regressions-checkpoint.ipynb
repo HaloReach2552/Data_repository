{
 "cells": [
  {
   "cell_type": "markdown",
   "id": "56dd1538",
   "metadata": {},
   "source": [
    "# Case of study:"
   ]
  },
  {
   "cell_type": "markdown",
   "id": "7d2bb9c7",
   "metadata": {},
   "source": [
    "Linear Regression is one of the common models to predict certain endogenous variable with its respective exogenous variables, which is useful in statistic models and other cases related to the Supervised Learning (**ML**). This new methodology is used in order to perform a better accurancy splitting the data in train set and test set. I make an  Some famous models to work in Linear Regression are: The OLS(Basic model), Lasso Regression, Ridge Regression and Elastic Net. In that sense, in this project I am going to able to drop which of them perform a good accurancy for the data. \n",
    "\n",
    "The basic model is:\n",
    "    $$\n",
    "    Y = \\beta_0 + \\beta_1X1 + \\beta_2X2 + ... + \\beta_nXn + \\epsilon       \n",
    "    $$\n",
    "\n",
    "This study is an approach to the use of Linear models which will allow the researcher to expand his knowledge and implementing other models different to basic model. For it, Its important the techniques related to the division from the dataset, for example the Cross Validation (CV). Finally, I am going to show the results depending on Mean Squared Error ${MSE}$ and the R_squared ${R^2}$ and select the best model. "
   ]
  },
  {
   "cell_type": "markdown",
   "id": "ce00b791",
   "metadata": {},
   "source": [
    "The data set contains 101 columns. The first 100, named as ${V1}$, ..., ${V100}$ collect the absorbance value for each of the 100 wavelengths analyzed (predictors), and the fat column the fat content measured by chemical techniques (response variable). Therefore, I am going to use those variables in each model I deploy. "
   ]
  },
  {
   "cell_type": "markdown",
   "id": "c7b17cac",
   "metadata": {},
   "source": [
    "# Importing the main libraries:"
   ]
  },
  {
   "cell_type": "code",
   "execution_count": 1,
   "id": "c871b25a",
   "metadata": {},
   "outputs": [],
   "source": [
    "# Tratamiento de datos\n",
    "import pandas as pd\n",
    "import numpy as np\n",
    "\n",
    "# Gráficos\n",
    "import matplotlib.pyplot as plt\n",
    "from matplotlib import style\n",
    "import seaborn as sns\n",
    "\n",
    "# Preprocesado y modelado\n",
    "from scipy.stats import pearsonr\n",
    "from sklearn.preprocessing import StandardScaler\n",
    "from sklearn.model_selection import train_test_split\n",
    "from sklearn.metrics import mean_squared_error, r2_score\n",
    "from sklearn.linear_model import LinearRegression\n",
    "from sklearn.linear_model import Ridge\n",
    "from sklearn.linear_model import Lasso\n",
    "from sklearn.linear_model import ElasticNet\n",
    "from sklearn.linear_model import RidgeCV\n",
    "from sklearn.linear_model import LassoCV\n",
    "from sklearn.linear_model import ElasticNetCV\n",
    "\n",
    "import warnings\n",
    "warnings.filterwarnings('ignore')"
   ]
  },
  {
   "cell_type": "markdown",
   "id": "b9334126",
   "metadata": {},
   "source": [
    "# Loading data"
   ]
  },
  {
   "cell_type": "code",
   "execution_count": 2,
   "id": "4d44348e",
   "metadata": {
    "scrolled": true
   },
   "outputs": [
    {
     "data": {
      "text/html": [
       "<div>\n",
       "<style scoped>\n",
       "    .dataframe tbody tr th:only-of-type {\n",
       "        vertical-align: middle;\n",
       "    }\n",
       "\n",
       "    .dataframe tbody tr th {\n",
       "        vertical-align: top;\n",
       "    }\n",
       "\n",
       "    .dataframe thead th {\n",
       "        text-align: right;\n",
       "    }\n",
       "</style>\n",
       "<table border=\"1\" class=\"dataframe\">\n",
       "  <thead>\n",
       "    <tr style=\"text-align: right;\">\n",
       "      <th></th>\n",
       "      <th>Unnamed: 0</th>\n",
       "      <th>V1</th>\n",
       "      <th>V2</th>\n",
       "      <th>V3</th>\n",
       "      <th>V4</th>\n",
       "      <th>V5</th>\n",
       "      <th>V6</th>\n",
       "      <th>V7</th>\n",
       "      <th>V8</th>\n",
       "      <th>V9</th>\n",
       "      <th>...</th>\n",
       "      <th>V92</th>\n",
       "      <th>V93</th>\n",
       "      <th>V94</th>\n",
       "      <th>V95</th>\n",
       "      <th>V96</th>\n",
       "      <th>V97</th>\n",
       "      <th>V98</th>\n",
       "      <th>V99</th>\n",
       "      <th>V100</th>\n",
       "      <th>fat</th>\n",
       "    </tr>\n",
       "  </thead>\n",
       "  <tbody>\n",
       "    <tr>\n",
       "      <th>0</th>\n",
       "      <td>1</td>\n",
       "      <td>2.61776</td>\n",
       "      <td>2.61814</td>\n",
       "      <td>2.61859</td>\n",
       "      <td>2.61912</td>\n",
       "      <td>2.61981</td>\n",
       "      <td>2.62071</td>\n",
       "      <td>2.62186</td>\n",
       "      <td>2.62334</td>\n",
       "      <td>2.62511</td>\n",
       "      <td>...</td>\n",
       "      <td>2.98145</td>\n",
       "      <td>2.96072</td>\n",
       "      <td>2.94013</td>\n",
       "      <td>2.91978</td>\n",
       "      <td>2.89966</td>\n",
       "      <td>2.87964</td>\n",
       "      <td>2.85960</td>\n",
       "      <td>2.83940</td>\n",
       "      <td>2.81920</td>\n",
       "      <td>22.5</td>\n",
       "    </tr>\n",
       "    <tr>\n",
       "      <th>1</th>\n",
       "      <td>2</td>\n",
       "      <td>2.83454</td>\n",
       "      <td>2.83871</td>\n",
       "      <td>2.84283</td>\n",
       "      <td>2.84705</td>\n",
       "      <td>2.85138</td>\n",
       "      <td>2.85587</td>\n",
       "      <td>2.86060</td>\n",
       "      <td>2.86566</td>\n",
       "      <td>2.87093</td>\n",
       "      <td>...</td>\n",
       "      <td>3.29186</td>\n",
       "      <td>3.27921</td>\n",
       "      <td>3.26655</td>\n",
       "      <td>3.25369</td>\n",
       "      <td>3.24045</td>\n",
       "      <td>3.22659</td>\n",
       "      <td>3.21181</td>\n",
       "      <td>3.19600</td>\n",
       "      <td>3.17942</td>\n",
       "      <td>40.1</td>\n",
       "    </tr>\n",
       "    <tr>\n",
       "      <th>2</th>\n",
       "      <td>3</td>\n",
       "      <td>2.58284</td>\n",
       "      <td>2.58458</td>\n",
       "      <td>2.58629</td>\n",
       "      <td>2.58808</td>\n",
       "      <td>2.58996</td>\n",
       "      <td>2.59192</td>\n",
       "      <td>2.59401</td>\n",
       "      <td>2.59627</td>\n",
       "      <td>2.59873</td>\n",
       "      <td>...</td>\n",
       "      <td>2.68951</td>\n",
       "      <td>2.67009</td>\n",
       "      <td>2.65112</td>\n",
       "      <td>2.63262</td>\n",
       "      <td>2.61461</td>\n",
       "      <td>2.59718</td>\n",
       "      <td>2.58034</td>\n",
       "      <td>2.56404</td>\n",
       "      <td>2.54816</td>\n",
       "      <td>8.4</td>\n",
       "    </tr>\n",
       "    <tr>\n",
       "      <th>3</th>\n",
       "      <td>4</td>\n",
       "      <td>2.82286</td>\n",
       "      <td>2.82460</td>\n",
       "      <td>2.82630</td>\n",
       "      <td>2.82814</td>\n",
       "      <td>2.83001</td>\n",
       "      <td>2.83192</td>\n",
       "      <td>2.83392</td>\n",
       "      <td>2.83606</td>\n",
       "      <td>2.83842</td>\n",
       "      <td>...</td>\n",
       "      <td>2.97367</td>\n",
       "      <td>2.94951</td>\n",
       "      <td>2.92576</td>\n",
       "      <td>2.90251</td>\n",
       "      <td>2.87988</td>\n",
       "      <td>2.85794</td>\n",
       "      <td>2.83672</td>\n",
       "      <td>2.81617</td>\n",
       "      <td>2.79622</td>\n",
       "      <td>5.9</td>\n",
       "    </tr>\n",
       "  </tbody>\n",
       "</table>\n",
       "<p>4 rows × 102 columns</p>\n",
       "</div>"
      ],
      "text/plain": [
       "   Unnamed: 0       V1       V2       V3       V4       V5       V6       V7  \\\n",
       "0           1  2.61776  2.61814  2.61859  2.61912  2.61981  2.62071  2.62186   \n",
       "1           2  2.83454  2.83871  2.84283  2.84705  2.85138  2.85587  2.86060   \n",
       "2           3  2.58284  2.58458  2.58629  2.58808  2.58996  2.59192  2.59401   \n",
       "3           4  2.82286  2.82460  2.82630  2.82814  2.83001  2.83192  2.83392   \n",
       "\n",
       "        V8       V9  ...      V92      V93      V94      V95      V96  \\\n",
       "0  2.62334  2.62511  ...  2.98145  2.96072  2.94013  2.91978  2.89966   \n",
       "1  2.86566  2.87093  ...  3.29186  3.27921  3.26655  3.25369  3.24045   \n",
       "2  2.59627  2.59873  ...  2.68951  2.67009  2.65112  2.63262  2.61461   \n",
       "3  2.83606  2.83842  ...  2.97367  2.94951  2.92576  2.90251  2.87988   \n",
       "\n",
       "       V97      V98      V99     V100   fat  \n",
       "0  2.87964  2.85960  2.83940  2.81920  22.5  \n",
       "1  3.22659  3.21181  3.19600  3.17942  40.1  \n",
       "2  2.59718  2.58034  2.56404  2.54816   8.4  \n",
       "3  2.85794  2.83672  2.81617  2.79622   5.9  \n",
       "\n",
       "[4 rows x 102 columns]"
      ]
     },
     "execution_count": 2,
     "metadata": {},
     "output_type": "execute_result"
    }
   ],
   "source": [
    "ruta=\"https://raw.githubusercontent.com/HaloReach2552/Data_repository/main/Benchmark/data/meatspec.csv\"\n",
    "\n",
    "data=pd.read_csv(ruta)\n",
    "data.head(4)"
   ]
  },
  {
   "cell_type": "markdown",
   "id": "b40b9b33",
   "metadata": {},
   "source": [
    "# Check the number of observations and covariates"
   ]
  },
  {
   "cell_type": "code",
   "execution_count": 3,
   "id": "36726fb9",
   "metadata": {},
   "outputs": [
    {
     "name": "stdout",
     "output_type": "stream",
     "text": [
      "this data set has 215 observations\n",
      "this dataset has 102 covariates\n"
     ]
    }
   ],
   "source": [
    "#number of observations\n",
    "print(f\"this data set has {data.shape[0]} observations\")\n",
    "#number of covariates\n",
    "print(f\"this dataset has {data.shape[1]} covariates\")"
   ]
  },
  {
   "cell_type": "code",
   "execution_count": 4,
   "id": "a24cfe07",
   "metadata": {},
   "outputs": [
    {
     "name": "stdout",
     "output_type": "stream",
     "text": [
      "<class 'pandas.core.frame.DataFrame'>\n",
      "RangeIndex: 215 entries, 0 to 214\n",
      "Columns: 102 entries, Unnamed: 0 to fat\n",
      "dtypes: float64(101), int64(1)\n",
      "memory usage: 171.5 KB\n"
     ]
    }
   ],
   "source": [
    "data.info()\n",
    "#deleting one column called unnamed\n",
    "del data[\"Unnamed: 0\"]   #this is the column"
   ]
  },
  {
   "cell_type": "code",
   "execution_count": 5,
   "id": "7258f2d3",
   "metadata": {},
   "outputs": [
    {
     "data": {
      "text/plain": [
       "101"
      ]
     },
     "execution_count": 5,
     "metadata": {},
     "output_type": "execute_result"
    }
   ],
   "source": [
    "len(data.columns)"
   ]
  },
  {
   "cell_type": "code",
   "execution_count": 6,
   "id": "e315509e",
   "metadata": {},
   "outputs": [
    {
     "data": {
      "text/plain": [
       "<Figure size 1008x288 with 0 Axes>"
      ]
     },
     "metadata": {},
     "output_type": "display_data"
    },
    {
     "data": {
      "image/png": "[encoded data removed]",
      "text/plain": [
       "<Figure size 360x360 with 1 Axes>"
      ]
     },
     "metadata": {
      "needs_background": "light"
     },
     "output_type": "display_data"
    }
   ],
   "source": [
    "plt.figure(figsize=(14,4))\n",
    "sns.displot(data[\"fat\"], color=\"r\")\n",
    "plt.title(\"No log(fat) histogram\")\n",
    "plt.show()"
   ]
  },
  {
   "cell_type": "markdown",
   "id": "dc0475b2",
   "metadata": {},
   "source": [
    "To be honest, this distribution doesn´t follow a normal distribution which case it can make a low performance to the linear regression. "
   ]
  },
  {
   "cell_type": "markdown",
   "id": "8bcd4eda",
   "metadata": {},
   "source": [
    "# Applying the $log ()$ to fat variable"
   ]
  },
  {
   "cell_type": "code",
   "execution_count": 7,
   "id": "6b8beadb",
   "metadata": {},
   "outputs": [
    {
     "data": {
      "text/html": [
       "<div>\n",
       "<style scoped>\n",
       "    .dataframe tbody tr th:only-of-type {\n",
       "        vertical-align: middle;\n",
       "    }\n",
       "\n",
       "    .dataframe tbody tr th {\n",
       "        vertical-align: top;\n",
       "    }\n",
       "\n",
       "    .dataframe thead th {\n",
       "        text-align: right;\n",
       "    }\n",
       "</style>\n",
       "<table border=\"1\" class=\"dataframe\">\n",
       "  <thead>\n",
       "    <tr style=\"text-align: right;\">\n",
       "      <th></th>\n",
       "      <th>V1</th>\n",
       "      <th>V2</th>\n",
       "      <th>V3</th>\n",
       "      <th>V4</th>\n",
       "      <th>V5</th>\n",
       "      <th>V6</th>\n",
       "      <th>V7</th>\n",
       "      <th>V8</th>\n",
       "      <th>V9</th>\n",
       "      <th>V10</th>\n",
       "      <th>...</th>\n",
       "      <th>V93</th>\n",
       "      <th>V94</th>\n",
       "      <th>V95</th>\n",
       "      <th>V96</th>\n",
       "      <th>V97</th>\n",
       "      <th>V98</th>\n",
       "      <th>V99</th>\n",
       "      <th>V100</th>\n",
       "      <th>fat</th>\n",
       "      <th>log_fat</th>\n",
       "    </tr>\n",
       "  </thead>\n",
       "  <tbody>\n",
       "    <tr>\n",
       "      <th>0</th>\n",
       "      <td>2.61776</td>\n",
       "      <td>2.61814</td>\n",
       "      <td>2.61859</td>\n",
       "      <td>2.61912</td>\n",
       "      <td>2.61981</td>\n",
       "      <td>2.62071</td>\n",
       "      <td>2.62186</td>\n",
       "      <td>2.62334</td>\n",
       "      <td>2.62511</td>\n",
       "      <td>2.62722</td>\n",
       "      <td>...</td>\n",
       "      <td>2.96072</td>\n",
       "      <td>2.94013</td>\n",
       "      <td>2.91978</td>\n",
       "      <td>2.89966</td>\n",
       "      <td>2.87964</td>\n",
       "      <td>2.85960</td>\n",
       "      <td>2.83940</td>\n",
       "      <td>2.81920</td>\n",
       "      <td>22.5</td>\n",
       "      <td>3.113515</td>\n",
       "    </tr>\n",
       "    <tr>\n",
       "      <th>1</th>\n",
       "      <td>2.83454</td>\n",
       "      <td>2.83871</td>\n",
       "      <td>2.84283</td>\n",
       "      <td>2.84705</td>\n",
       "      <td>2.85138</td>\n",
       "      <td>2.85587</td>\n",
       "      <td>2.86060</td>\n",
       "      <td>2.86566</td>\n",
       "      <td>2.87093</td>\n",
       "      <td>2.87661</td>\n",
       "      <td>...</td>\n",
       "      <td>3.27921</td>\n",
       "      <td>3.26655</td>\n",
       "      <td>3.25369</td>\n",
       "      <td>3.24045</td>\n",
       "      <td>3.22659</td>\n",
       "      <td>3.21181</td>\n",
       "      <td>3.19600</td>\n",
       "      <td>3.17942</td>\n",
       "      <td>40.1</td>\n",
       "      <td>3.691376</td>\n",
       "    </tr>\n",
       "    <tr>\n",
       "      <th>2</th>\n",
       "      <td>2.58284</td>\n",
       "      <td>2.58458</td>\n",
       "      <td>2.58629</td>\n",
       "      <td>2.58808</td>\n",
       "      <td>2.58996</td>\n",
       "      <td>2.59192</td>\n",
       "      <td>2.59401</td>\n",
       "      <td>2.59627</td>\n",
       "      <td>2.59873</td>\n",
       "      <td>2.60131</td>\n",
       "      <td>...</td>\n",
       "      <td>2.67009</td>\n",
       "      <td>2.65112</td>\n",
       "      <td>2.63262</td>\n",
       "      <td>2.61461</td>\n",
       "      <td>2.59718</td>\n",
       "      <td>2.58034</td>\n",
       "      <td>2.56404</td>\n",
       "      <td>2.54816</td>\n",
       "      <td>8.4</td>\n",
       "      <td>2.128232</td>\n",
       "    </tr>\n",
       "    <tr>\n",
       "      <th>3</th>\n",
       "      <td>2.82286</td>\n",
       "      <td>2.82460</td>\n",
       "      <td>2.82630</td>\n",
       "      <td>2.82814</td>\n",
       "      <td>2.83001</td>\n",
       "      <td>2.83192</td>\n",
       "      <td>2.83392</td>\n",
       "      <td>2.83606</td>\n",
       "      <td>2.83842</td>\n",
       "      <td>2.84097</td>\n",
       "      <td>...</td>\n",
       "      <td>2.94951</td>\n",
       "      <td>2.92576</td>\n",
       "      <td>2.90251</td>\n",
       "      <td>2.87988</td>\n",
       "      <td>2.85794</td>\n",
       "      <td>2.83672</td>\n",
       "      <td>2.81617</td>\n",
       "      <td>2.79622</td>\n",
       "      <td>5.9</td>\n",
       "      <td>1.774952</td>\n",
       "    </tr>\n",
       "    <tr>\n",
       "      <th>4</th>\n",
       "      <td>2.78813</td>\n",
       "      <td>2.78989</td>\n",
       "      <td>2.79167</td>\n",
       "      <td>2.79350</td>\n",
       "      <td>2.79538</td>\n",
       "      <td>2.79746</td>\n",
       "      <td>2.79984</td>\n",
       "      <td>2.80254</td>\n",
       "      <td>2.80553</td>\n",
       "      <td>2.80890</td>\n",
       "      <td>...</td>\n",
       "      <td>3.27907</td>\n",
       "      <td>3.25831</td>\n",
       "      <td>3.23784</td>\n",
       "      <td>3.21765</td>\n",
       "      <td>3.19766</td>\n",
       "      <td>3.17770</td>\n",
       "      <td>3.15770</td>\n",
       "      <td>3.13753</td>\n",
       "      <td>25.5</td>\n",
       "      <td>3.238678</td>\n",
       "    </tr>\n",
       "  </tbody>\n",
       "</table>\n",
       "<p>5 rows × 102 columns</p>\n",
       "</div>"
      ],
      "text/plain": [
       "        V1       V2       V3       V4       V5       V6       V7       V8  \\\n",
       "0  2.61776  2.61814  2.61859  2.61912  2.61981  2.62071  2.62186  2.62334   \n",
       "1  2.83454  2.83871  2.84283  2.84705  2.85138  2.85587  2.86060  2.86566   \n",
       "2  2.58284  2.58458  2.58629  2.58808  2.58996  2.59192  2.59401  2.59627   \n",
       "3  2.82286  2.82460  2.82630  2.82814  2.83001  2.83192  2.83392  2.83606   \n",
       "4  2.78813  2.78989  2.79167  2.79350  2.79538  2.79746  2.79984  2.80254   \n",
       "\n",
       "        V9      V10  ...      V93      V94      V95      V96      V97  \\\n",
       "0  2.62511  2.62722  ...  2.96072  2.94013  2.91978  2.89966  2.87964   \n",
       "1  2.87093  2.87661  ...  3.27921  3.26655  3.25369  3.24045  3.22659   \n",
       "2  2.59873  2.60131  ...  2.67009  2.65112  2.63262  2.61461  2.59718   \n",
       "3  2.83842  2.84097  ...  2.94951  2.92576  2.90251  2.87988  2.85794   \n",
       "4  2.80553  2.80890  ...  3.27907  3.25831  3.23784  3.21765  3.19766   \n",
       "\n",
       "       V98      V99     V100   fat   log_fat  \n",
       "0  2.85960  2.83940  2.81920  22.5  3.113515  \n",
       "1  3.21181  3.19600  3.17942  40.1  3.691376  \n",
       "2  2.58034  2.56404  2.54816   8.4  2.128232  \n",
       "3  2.83672  2.81617  2.79622   5.9  1.774952  \n",
       "4  3.17770  3.15770  3.13753  25.5  3.238678  \n",
       "\n",
       "[5 rows x 102 columns]"
      ]
     },
     "execution_count": 7,
     "metadata": {},
     "output_type": "execute_result"
    }
   ],
   "source": [
    "#applying the log 10 to endogenous variable which is \"fat\", in order to get a normal distribution \n",
    "def log(x):\n",
    "    return np.log(x)\n",
    "\n",
    "data[\"log_fat\"]=data[\"fat\"].apply(lambda x: log(x))\n",
    "data.head(5)"
   ]
  },
  {
   "cell_type": "code",
   "execution_count": 8,
   "id": "a68e50f1",
   "metadata": {},
   "outputs": [
    {
     "data": {
      "text/plain": [
       "<Figure size 1008x288 with 0 Axes>"
      ]
     },
     "metadata": {},
     "output_type": "display_data"
    },
    {
     "data": {
      "image/png": "[encoded data removed]",
      "text/plain": [
       "<Figure size 360x360 with 1 Axes>"
      ]
     },
     "metadata": {
      "needs_background": "light"
     },
     "output_type": "display_data"
    }
   ],
   "source": [
    "plt.figure(figsize=(14,4))\n",
    "sns.displot(data[\"log_fat\"], color=\"b\")\n",
    "plt.title(\"Log (fat) histogram\")\n",
    "plt.show()"
   ]
  },
  {
   "cell_type": "markdown",
   "id": "ddecf10e",
   "metadata": {},
   "source": [
    "Although, I decided change the **fat** variable to **Log(fat)** in order to transform the variables on normal distribution, I notice the distribution doesn´t follow a normal distribution, too. This can make some problems in order to perform a Linear Regression."
   ]
  },
  {
   "cell_type": "code",
   "execution_count": 9,
   "id": "0b85cd08",
   "metadata": {},
   "outputs": [],
   "source": [
    "#exogenous variables:\n",
    "x=['V1', 'V2', 'V3', 'V4', 'V5', 'V6', 'V7', 'V8', 'V9', 'V10', 'V11',\n",
    "       'V12', 'V13', 'V14', 'V15', 'V16', 'V17', 'V18', 'V19', 'V20', 'V21',\n",
    "       'V22', 'V23', 'V24', 'V25', 'V26', 'V27', 'V28', 'V29', 'V30', 'V31',\n",
    "       'V32', 'V33', 'V34', 'V35', 'V36', 'V37', 'V38', 'V39', 'V40', 'V41',\n",
    "       'V42', 'V43', 'V44', 'V45', 'V46', 'V47', 'V48', 'V49', 'V50', 'V51',\n",
    "       'V52', 'V53', 'V54', 'V55', 'V56', 'V57', 'V58', 'V59', 'V60', 'V61',\n",
    "       'V62', 'V63', 'V64', 'V65', 'V66', 'V67', 'V68', 'V69', 'V70', 'V71',\n",
    "       'V72', 'V73', 'V74', 'V75', 'V76', 'V77', 'V78', 'V79', 'V80', 'V81',\n",
    "       'V82', 'V83', 'V84', 'V85', 'V86', 'V87', 'V88', 'V89', 'V90', 'V91',\n",
    "       'V92', 'V93', 'V94', 'V95', 'V96', 'V97', 'V98', 'V99', 'V100']\n",
    "\n",
    "#endogenous variable with no log method\n",
    "y=[\"fat\"]\n",
    "\n",
    "formula_base= y\n",
    "\n",
    "for elements in formula_base:\n",
    "    form_0 = elements + \" ~ \"  + \" + \".join(x)    #formula base"
   ]
  },
  {
   "cell_type": "code",
   "execution_count": 10,
   "id": "296809e3",
   "metadata": {},
   "outputs": [
    {
     "name": "stdout",
     "output_type": "stream",
     "text": [
      "fat ~ V1 + V2 + V3 + V4 + V5 + V6 + V7 + V8 + V9 + V10 + V11 + V12 + V13 + V14 + V15 + V16 + V17 + V18 + V19 + V20 + V21 + V22 + V23 + V24 + V25 + V26 + V27 + V28 + V29 + V30 + V31 + V32 + V33 + V34 + V35 + V36 + V37 + V38 + V39 + V40 + V41 + V42 + V43 + V44 + V45 + V46 + V47 + V48 + V49 + V50 + V51 + V52 + V53 + V54 + V55 + V56 + V57 + V58 + V59 + V60 + V61 + V62 + V63 + V64 + V65 + V66 + V67 + V68 + V69 + V70 + V71 + V72 + V73 + V74 + V75 + V76 + V77 + V78 + V79 + V80 + V81 + V82 + V83 + V84 + V85 + V86 + V87 + V88 + V89 + V90 + V91 + V92 + V93 + V94 + V95 + V96 + V97 + V98 + V99 + V100\n"
     ]
    }
   ],
   "source": [
    "#displaying the formaula base\n",
    "print(form_0)"
   ]
  },
  {
   "cell_type": "code",
   "execution_count": 11,
   "id": "2e8cda4a",
   "metadata": {},
   "outputs": [],
   "source": [
    "#exogenous variables:\n",
    "x=['V1', 'V2', 'V3', 'V4', 'V5', 'V6', 'V7', 'V8', 'V9', 'V10', 'V11',\n",
    "       'V12', 'V13', 'V14', 'V15', 'V16', 'V17', 'V18', 'V19', 'V20', 'V21',\n",
    "       'V22', 'V23', 'V24', 'V25', 'V26', 'V27', 'V28', 'V29', 'V30', 'V31',\n",
    "       'V32', 'V33', 'V34', 'V35', 'V36', 'V37', 'V38', 'V39', 'V40', 'V41',\n",
    "       'V42', 'V43', 'V44', 'V45', 'V46', 'V47', 'V48', 'V49', 'V50', 'V51',\n",
    "       'V52', 'V53', 'V54', 'V55', 'V56', 'V57', 'V58', 'V59', 'V60', 'V61',\n",
    "       'V62', 'V63', 'V64', 'V65', 'V66', 'V67', 'V68', 'V69', 'V70', 'V71',\n",
    "       'V72', 'V73', 'V74', 'V75', 'V76', 'V77', 'V78', 'V79', 'V80', 'V81',\n",
    "       'V82', 'V83', 'V84', 'V85', 'V86', 'V87', 'V88', 'V89', 'V90', 'V91',\n",
    "       'V92', 'V93', 'V94', 'V95', 'V96', 'V97', 'V98', 'V99', 'V100']\n",
    "\n",
    "#endogenous variable with log method\n",
    "y=[\"log_fat\"]\n",
    "\n",
    "formula_base= y\n",
    "\n",
    "for elements in formula_base:\n",
    "    form_1 = elements + \" ~ \"  + \" + \".join(x)  #formula base "
   ]
  },
  {
   "cell_type": "code",
   "execution_count": 12,
   "id": "70b5ff5b",
   "metadata": {},
   "outputs": [
    {
     "name": "stdout",
     "output_type": "stream",
     "text": [
      "log_fat ~ V1 + V2 + V3 + V4 + V5 + V6 + V7 + V8 + V9 + V10 + V11 + V12 + V13 + V14 + V15 + V16 + V17 + V18 + V19 + V20 + V21 + V22 + V23 + V24 + V25 + V26 + V27 + V28 + V29 + V30 + V31 + V32 + V33 + V34 + V35 + V36 + V37 + V38 + V39 + V40 + V41 + V42 + V43 + V44 + V45 + V46 + V47 + V48 + V49 + V50 + V51 + V52 + V53 + V54 + V55 + V56 + V57 + V58 + V59 + V60 + V61 + V62 + V63 + V64 + V65 + V66 + V67 + V68 + V69 + V70 + V71 + V72 + V73 + V74 + V75 + V76 + V77 + V78 + V79 + V80 + V81 + V82 + V83 + V84 + V85 + V86 + V87 + V88 + V89 + V90 + V91 + V92 + V93 + V94 + V95 + V96 + V97 + V98 + V99 + V100\n"
     ]
    }
   ],
   "source": [
    "#displaying the formula base\n",
    "print(form_1)"
   ]
  },
  {
   "cell_type": "markdown",
   "id": "929ca46c",
   "metadata": {},
   "source": [
    "# 1. OLS models:"
   ]
  },
  {
   "cell_type": "code",
   "execution_count": 13,
   "id": "25846afa",
   "metadata": {},
   "outputs": [],
   "source": [
    "#first using statmodels in order to build a OLS models\n",
    "import statsmodels.formula.api as smf\n",
    "import statsmodels.api as sm"
   ]
  },
  {
   "cell_type": "markdown",
   "id": "ac6b7b59",
   "metadata": {},
   "source": [
    "## 1.1.Not including the Log() method to OLS model"
   ]
  },
  {
   "cell_type": "code",
   "execution_count": 14,
   "id": "bea33c1d",
   "metadata": {},
   "outputs": [
    {
     "name": "stdout",
     "output_type": "stream",
     "text": [
      "                            OLS Regression Results                            \n",
      "==============================================================================\n",
      "Dep. Variable:                    fat   R-squared:                       0.995\n",
      "Model:                            OLS   Adj. R-squared:                  0.991\n",
      "Method:                 Least Squares   F-statistic:                     232.0\n",
      "Date:                Tue, 21 Dec 2021   Prob (F-statistic):          7.07e-102\n",
      "Time:                        11:48:44   Log-Likelihood:                -279.71\n",
      "No. Observations:                 215   AIC:                             761.4\n",
      "Df Residuals:                     114   BIC:                             1102.\n",
      "Df Model:                         100                                         \n",
      "Covariance Type:            nonrobust                                         \n",
      "==============================================================================\n",
      "                 coef    std err          t      P>|t|      [0.025      0.975]\n",
      "------------------------------------------------------------------------------\n",
      "Intercept      7.3017      1.876      3.892      0.000       3.585      11.018\n",
      "V1           1.09e+04   3003.614      3.628      0.000    4947.910    1.68e+04\n",
      "V2         -1.217e+04   5520.233     -2.205      0.029   -2.31e+04   -1239.326\n",
      "V3         -5953.2848   8868.517     -0.671      0.503   -2.35e+04    1.16e+04\n",
      "V4          2.323e+04   1.54e+04      1.506      0.135   -7329.976    5.38e+04\n",
      "V5         -2.839e+04   1.98e+04     -1.437      0.154   -6.75e+04    1.08e+04\n",
      "V6          1.275e+04   1.74e+04      0.733      0.465   -2.17e+04    4.72e+04\n",
      "V7         -1.142e+04   1.15e+04     -0.997      0.321   -3.41e+04    1.13e+04\n",
      "V8          7102.3320   7123.935      0.997      0.321   -7010.127    2.12e+04\n",
      "V9           783.6549   5228.808      0.150      0.881   -9574.573    1.11e+04\n",
      "V10         3512.2392   6787.803      0.517      0.606   -9934.347     1.7e+04\n",
      "V11        -1.055e+04   1.06e+04     -0.997      0.321   -3.15e+04    1.04e+04\n",
      "V12         3.464e+04   1.83e+04      1.888      0.062   -1702.565     7.1e+04\n",
      "V13        -3.871e+04   2.31e+04     -1.676      0.097   -8.45e+04    7052.295\n",
      "V14          2.89e+04      2e+04      1.448      0.150   -1.06e+04    6.84e+04\n",
      "V15        -1.373e+04   1.33e+04     -1.031      0.305   -4.01e+04    1.26e+04\n",
      "V16        -7062.7687   8172.878     -0.864      0.389   -2.33e+04    9127.639\n",
      "V17         2571.5972   6279.661      0.410      0.683   -9868.362     1.5e+04\n",
      "V18         5263.4271   6183.397      0.851      0.396   -6985.834    1.75e+04\n",
      "V19         8860.8269   8925.154      0.993      0.323   -8819.835    2.65e+04\n",
      "V20        -1.215e+04   1.52e+04     -0.800      0.425   -4.22e+04    1.79e+04\n",
      "V21        -1.928e+04   2.05e+04     -0.939      0.350      -6e+04    2.14e+04\n",
      "V22         3.663e+04   2.28e+04      1.603      0.112   -8633.951    8.19e+04\n",
      "V23        -1.117e+04   1.93e+04     -0.578      0.564   -4.94e+04    2.71e+04\n",
      "V24        -1.501e+04   1.36e+04     -1.102      0.273    -4.2e+04     1.2e+04\n",
      "V25          1.67e+04   8582.462      1.946      0.054    -302.799    3.37e+04\n",
      "V26        -4891.8524   5901.456     -0.829      0.409   -1.66e+04    6798.887\n",
      "V27        -6334.7521   6072.685     -1.043      0.299   -1.84e+04    5695.191\n",
      "V28         2.404e+04   8144.906      2.952      0.004    7908.791    4.02e+04\n",
      "V29        -3.994e+04   1.23e+04     -3.238      0.002   -6.44e+04   -1.55e+04\n",
      "V30         3.331e+04   1.77e+04      1.885      0.062   -1704.197    6.83e+04\n",
      "V31        -2.317e+04    2.1e+04     -1.105      0.272   -6.47e+04    1.84e+04\n",
      "V32         1.876e+04    1.9e+04      0.990      0.324   -1.88e+04    5.63e+04\n",
      "V33        -3747.8922   1.35e+04     -0.278      0.781   -3.04e+04    2.29e+04\n",
      "V34        -6671.7473   9353.448     -0.713      0.477   -2.52e+04    1.19e+04\n",
      "V35        -5318.5491   7534.861     -0.706      0.482   -2.02e+04    9607.953\n",
      "V36         1.049e+04   5773.159      1.817      0.072    -947.687    2.19e+04\n",
      "V37        -8410.5395   5892.265     -1.427      0.156   -2.01e+04    3261.992\n",
      "V38         -408.2284   7970.269     -0.051      0.959   -1.62e+04    1.54e+04\n",
      "V39         1.982e+04   1.13e+04      1.748      0.083   -2644.954    4.23e+04\n",
      "V40        -2.369e+04    1.6e+04     -1.483      0.141   -5.53e+04    7948.300\n",
      "V41          2.94e+04   1.93e+04      1.520      0.131   -8913.795    6.77e+04\n",
      "V42        -3.206e+04   2.06e+04     -1.553      0.123   -7.29e+04    8831.335\n",
      "V43         1.183e+04   1.75e+04      0.676      0.500   -2.28e+04    4.65e+04\n",
      "V44        -9994.2573   1.14e+04     -0.874      0.384   -3.26e+04    1.27e+04\n",
      "V45         2.302e+04   8927.175      2.578      0.011    5333.134    4.07e+04\n",
      "V46        -9041.6328   6218.630     -1.454      0.149   -2.14e+04    3277.425\n",
      "V47        -4846.7989   3520.124     -1.377      0.171   -1.18e+04    2126.540\n",
      "V48         1536.0420   4401.789      0.349      0.728   -7183.868    1.03e+04\n",
      "V49         2188.4178   7363.225      0.297      0.767   -1.24e+04    1.68e+04\n",
      "V50        -1.317e+04   9829.843     -1.340      0.183   -3.26e+04    6301.974\n",
      "V51         2.642e+04   1.34e+04      1.976      0.051     -67.848    5.29e+04\n",
      "V52        -2.357e+04   1.63e+04     -1.442      0.152   -5.59e+04    8802.381\n",
      "V53        -2005.2101   1.67e+04     -0.120      0.905   -3.52e+04    3.12e+04\n",
      "V54         3.033e+04    1.4e+04      2.163      0.033    2547.210    5.81e+04\n",
      "V55         -3.18e+04   1.07e+04     -2.986      0.003   -5.29e+04   -1.07e+04\n",
      "V56         1.243e+04   6395.916      1.943      0.054    -241.990    2.51e+04\n",
      "V57         -102.1067   4676.993     -0.022      0.983   -9367.193    9162.980\n",
      "V58          210.2511   4388.133      0.048      0.962   -8482.607    8903.109\n",
      "V59        -7679.0107   4511.526     -1.702      0.091   -1.66e+04    1258.288\n",
      "V60         1.159e+04   3967.244      2.922      0.004    3731.869    1.95e+04\n",
      "V61        -6559.6389   3756.703     -1.746      0.083    -1.4e+04     882.361\n",
      "V62         2533.8192   3939.248      0.643      0.521   -5269.800    1.03e+04\n",
      "V63         1.195e+04   5296.267      2.256      0.026    1459.060    2.24e+04\n",
      "V64        -1.852e+04   7070.171     -2.619      0.010   -3.25e+04   -4509.897\n",
      "V65         4051.6973   8539.248      0.474      0.636   -1.29e+04     2.1e+04\n",
      "V66          222.8615   9691.472      0.023      0.982    -1.9e+04    1.94e+04\n",
      "V67         1.044e+04   1.01e+04      1.032      0.304   -9591.241    3.05e+04\n",
      "V68        -2.257e+04   9493.417     -2.378      0.019   -4.14e+04   -3764.357\n",
      "V69         1.729e+04   8168.742      2.116      0.037    1102.934    3.35e+04\n",
      "V70          -45.0365   7357.838     -0.006      0.995   -1.46e+04    1.45e+04\n",
      "V71        -8134.7141   6796.093     -1.197      0.234   -2.16e+04    5328.293\n",
      "V72        -1768.7805   6344.295     -0.279      0.781   -1.43e+04    1.08e+04\n",
      "V73         1.574e+04   5531.706      2.846      0.005    4786.680    2.67e+04\n",
      "V74        -1.122e+04   5666.910     -1.980      0.050   -2.24e+04       6.561\n",
      "V75         5289.4272   5067.718      1.044      0.299   -4749.682    1.53e+04\n",
      "V76        -2454.6124   4760.274     -0.516      0.607   -1.19e+04    6975.454\n",
      "V77          740.6082   4922.688      0.150      0.881   -9011.198    1.05e+04\n",
      "V78        -5730.8061   5518.607     -1.038      0.301   -1.67e+04    5201.511\n",
      "V79         1.217e+04   6026.835      2.019      0.046     227.380    2.41e+04\n",
      "V80        -2.269e+04   7023.823     -3.230      0.002   -3.66e+04   -8774.840\n",
      "V81         1.499e+04   8595.338      1.744      0.084   -2035.535     3.2e+04\n",
      "V82         3331.3674   9984.910      0.334      0.739   -1.64e+04    2.31e+04\n",
      "V83        -6651.0823   1.14e+04     -0.586      0.559   -2.92e+04    1.59e+04\n",
      "V84        -6752.9492   1.24e+04     -0.544      0.587   -3.13e+04    1.78e+04\n",
      "V85         1.627e+04   1.24e+04      1.309      0.193   -8361.675    4.09e+04\n",
      "V86         5512.0313   1.37e+04      0.403      0.688   -2.16e+04    3.26e+04\n",
      "V87        -2.109e+04   1.58e+04     -1.337      0.184   -5.23e+04    1.01e+04\n",
      "V88         9657.6905   1.51e+04      0.638      0.525   -2.03e+04    3.97e+04\n",
      "V89          273.5862   1.31e+04      0.021      0.983   -2.57e+04    2.62e+04\n",
      "V90        -5489.9148   1.39e+04     -0.394      0.694   -3.31e+04    2.21e+04\n",
      "V91         2891.9408   1.55e+04      0.187      0.852   -2.78e+04    3.36e+04\n",
      "V92         1.016e+04   1.44e+04      0.705      0.482   -1.84e+04    3.87e+04\n",
      "V93        -3183.2348   1.19e+04     -0.268      0.789   -2.67e+04    2.04e+04\n",
      "V94        -7330.6503    1.1e+04     -0.669      0.505    -2.9e+04    1.44e+04\n",
      "V95         5551.5211   9450.485      0.587      0.558   -1.32e+04    2.43e+04\n",
      "V96        -3320.4152   8349.562     -0.398      0.692   -1.99e+04    1.32e+04\n",
      "V97        -2512.7866   7974.922     -0.315      0.753   -1.83e+04    1.33e+04\n",
      "V98        -5979.5627   7355.289     -0.813      0.418   -2.06e+04    8591.209\n",
      "V99         8283.2526   7911.765      1.047      0.297   -7389.892     2.4e+04\n",
      "V100        -101.9256   3591.166     -0.028      0.977   -7215.999    7012.147\n",
      "==============================================================================\n",
      "Omnibus:                       10.384   Durbin-Watson:                   2.089\n",
      "Prob(Omnibus):                  0.006   Jarque-Bera (JB):               21.440\n",
      "Skew:                          -0.110   Prob(JB):                     2.21e-05\n",
      "Kurtosis:                       4.531   Cond. No.                     1.62e+07\n",
      "==============================================================================\n",
      "\n",
      "Notes:\n",
      "[1] Standard Errors assume that the covariance matrix of the errors is correctly specified.\n",
      "[2] The condition number is large, 1.62e+07. This might indicate that there are\n",
      "strong multicollinearity or other numerical problems.\n",
      "101\n"
     ]
    }
   ],
   "source": [
    "model_0=smf.ols(form_0, data=data).fit()\n",
    "print(model_0.summary())\n",
    "# the number of paramaters\n",
    "print(len(model_0.params))"
   ]
  },
  {
   "cell_type": "markdown",
   "id": "03b19104",
   "metadata": {},
   "source": [
    "## 1.2.Including Log() method to OLS model"
   ]
  },
  {
   "cell_type": "code",
   "execution_count": 15,
   "id": "57984d2a",
   "metadata": {},
   "outputs": [
    {
     "name": "stdout",
     "output_type": "stream",
     "text": [
      "                            OLS Regression Results                            \n",
      "==============================================================================\n",
      "Dep. Variable:                log_fat   R-squared:                       0.954\n",
      "Model:                            OLS   Adj. R-squared:                  0.914\n",
      "Method:                 Least Squares   F-statistic:                     23.88\n",
      "Date:                Tue, 21 Dec 2021   Prob (F-statistic):           1.70e-47\n",
      "Time:                        11:48:45   Log-Likelihood:                 75.341\n",
      "No. Observations:                 215   AIC:                             51.32\n",
      "Df Residuals:                     114   BIC:                             391.8\n",
      "Df Model:                         100                                         \n",
      "Covariance Type:            nonrobust                                         \n",
      "==============================================================================\n",
      "                 coef    std err          t      P>|t|      [0.025      0.975]\n",
      "------------------------------------------------------------------------------\n",
      "Intercept      0.7503      0.360      2.085      0.039       0.038       1.463\n",
      "V1          2404.3987    576.042      4.174      0.000    1263.264    3545.534\n",
      "V2         -3926.1439   1058.687     -3.709      0.000   -6023.394   -1828.894\n",
      "V3          2184.1972   1700.831      1.284      0.202   -1185.135    5553.530\n",
      "V4          -389.1451   2958.546     -0.132      0.896   -6250.002    5471.712\n",
      "V5          -232.1197   3789.344     -0.061      0.951   -7738.781    7274.542\n",
      "V6          -414.2106   3333.461     -0.124      0.901   -7017.770    6189.349\n",
      "V7          -564.7562   2196.715     -0.257      0.798   -4916.431    3786.919\n",
      "V8           271.0956   1366.249      0.198      0.843   -2435.434    2977.625\n",
      "V9            81.3362   1002.796      0.081      0.935   -1905.196    2067.868\n",
      "V10          918.5746   1301.785      0.706      0.482   -1660.252    3497.401\n",
      "V11        -2876.8420   2029.142     -1.418      0.159   -6896.557    1142.873\n",
      "V12         6090.5535   3518.215      1.731      0.086    -879.003    1.31e+04\n",
      "V13        -8607.3455   4429.879     -1.943      0.054   -1.74e+04     168.211\n",
      "V14         8159.3254   3826.522      2.132      0.035     579.015    1.57e+04\n",
      "V15        -1946.6204   2553.074     -0.762      0.447   -7004.240    3110.999\n",
      "V16        -2190.0459   1567.419     -1.397      0.165   -5295.091     914.999\n",
      "V17         1249.5723   1204.332      1.038      0.302   -1136.200    3635.345\n",
      "V18           70.3260   1185.870      0.059      0.953   -2278.874    2419.526\n",
      "V19         1158.7271   1711.693      0.677      0.500   -2232.123    4549.577\n",
      "V20        -2239.7261   2912.069     -0.769      0.443   -8008.512    3529.060\n",
      "V21          340.1654   3938.481      0.086      0.931   -7461.934    8142.265\n",
      "V22        -1025.4315   4381.779     -0.234      0.815   -9705.702    7654.839\n",
      "V23         4895.6037   3701.932      1.322      0.189   -2437.894    1.22e+04\n",
      "V24        -6343.7346   2611.331     -2.429      0.017   -1.15e+04   -1170.708\n",
      "V25         4874.1936   1645.970      2.961      0.004    1613.539    8134.848\n",
      "V26        -1947.1598   1131.799     -1.720      0.088   -4189.245     294.925\n",
      "V27        -1443.8017   1164.638     -1.240      0.218   -3750.940     863.337\n",
      "V28         5607.3414   1562.054      3.590      0.000    2512.924    8701.759\n",
      "V29        -8751.7606   2365.753     -3.699      0.000   -1.34e+04   -4065.221\n",
      "V30         7410.8054   3389.692      2.186      0.031     695.853    1.41e+04\n",
      "V31        -4913.2907   4022.592     -1.221      0.224   -1.29e+04    3055.433\n",
      "V32         3473.4175   3636.171      0.955      0.341   -3729.809    1.07e+04\n",
      "V33         -823.9449   2581.206     -0.319      0.750   -5937.294    4289.404\n",
      "V34        -1512.3297   1793.832     -0.843      0.401   -5065.897    2041.238\n",
      "V35         -774.2603   1445.058     -0.536      0.593   -3636.909    2088.389\n",
      "V36         3560.5287   1107.194      3.216      0.002    1367.187    5753.871\n",
      "V37        -1937.0812   1130.036     -1.714      0.089   -4175.674     301.512\n",
      "V38        -1439.6910   1528.562     -0.942      0.348   -4467.760    1588.378\n",
      "V39         2230.3904   2174.477      1.026      0.307   -2077.233    6538.013\n",
      "V40         1631.9056   3062.971      0.533      0.595   -4435.816    7699.627\n",
      "V41        -4054.1992   3709.089     -1.093      0.277   -1.14e+04    3293.477\n",
      "V42         2785.9572   3958.295      0.704      0.483   -5055.394    1.06e+04\n",
      "V43        -2570.2097   3354.648     -0.766      0.445   -9215.741    4075.322\n",
      "V44         1020.6310   2193.114      0.465      0.643   -3323.910    5365.172\n",
      "V45         1815.6082   1712.080      1.060      0.291   -1576.009    5207.226\n",
      "V46         -424.2806   1192.627     -0.356      0.723   -2786.866    1938.305\n",
      "V47        -1797.2177    675.100     -2.662      0.009   -3134.585    -459.850\n",
      "V48         1817.9976    844.188      2.154      0.033     145.667    3490.328\n",
      "V49        -1927.7584   1412.141     -1.365      0.175   -4725.199     869.683\n",
      "V50          238.4272   1885.197      0.126      0.900   -3496.133    3972.987\n",
      "V51         2129.6779   2564.402      0.830      0.408   -2950.382    7209.738\n",
      "V52         -713.5283   3133.618     -0.228      0.820   -6921.201    5494.144\n",
      "V53        -4068.6486   3210.926     -1.267      0.208   -1.04e+04    2292.171\n",
      "V54         7797.8884   2689.445      2.899      0.004    2470.118    1.31e+04\n",
      "V55        -7042.9349   2042.638     -3.448      0.001   -1.11e+04   -2996.484\n",
      "V56         2609.9591   1226.628      2.128      0.036     180.019    5039.900\n",
      "V57          954.9706    896.968      1.065      0.289    -821.915    2731.856\n",
      "V58         -336.6944    841.569     -0.400      0.690   -2003.837    1330.448\n",
      "V59        -2395.8714    865.234     -2.769      0.007   -4109.893    -681.850\n",
      "V60         2513.6869    760.850      3.304      0.001    1006.449    4020.925\n",
      "V61         -791.2167    720.472     -1.098      0.274   -2218.466     636.032\n",
      "V62         -709.5220    755.481     -0.939      0.350   -2206.123     787.079\n",
      "V63         2772.1771   1015.734      2.729      0.007     760.016    4784.338\n",
      "V64        -1416.6284   1355.938     -1.045      0.298   -4102.732    1269.475\n",
      "V65         -319.1536   1637.682     -0.195      0.846   -3563.390    2925.083\n",
      "V66        -1908.3238   1858.659     -1.027      0.307   -5590.314    1773.666\n",
      "V67         4747.8367   1939.162      2.448      0.016     906.372    8589.302\n",
      "V68        -5674.8562   1820.676     -3.117      0.002   -9281.601   -2068.112\n",
      "V69         2511.8355   1566.626      1.603      0.112    -591.638    5615.309\n",
      "V70          764.5028   1411.108      0.542      0.589   -2030.891    3559.897\n",
      "V71        -1265.4452   1303.375     -0.971      0.334   -3847.421    1316.530\n",
      "V72        -1010.0409   1216.728     -0.830      0.408   -3420.369    1400.287\n",
      "V73         1632.7440   1060.887      1.539      0.127    -468.865    3734.353\n",
      "V74          747.7891   1086.817      0.688      0.493   -1405.187    2900.765\n",
      "V75         -721.5389    971.902     -0.742      0.459   -2646.869    1203.791\n",
      "V76         1486.1489    912.940      1.628      0.106    -322.377    3294.675\n",
      "V77         -927.4956    944.088     -0.982      0.328   -2797.726     942.735\n",
      "V78        -1139.6679   1058.375     -1.077      0.284   -3236.300     956.964\n",
      "V79         2015.5234   1155.844      1.744      0.084    -274.195    4305.242\n",
      "V80        -3237.8944   1347.050     -2.404      0.018   -5906.389    -569.399\n",
      "V81         2080.7599   1648.439      1.262      0.209   -1184.786    5346.306\n",
      "V82        -1325.1737   1914.936     -0.692      0.490   -5118.647    2468.299\n",
      "V83          856.5663   2178.414      0.393      0.695   -3458.855    5171.988\n",
      "V84         -837.4959   2379.245     -0.352      0.725   -5550.761    3875.769\n",
      "V85         2909.1523   2384.734      1.220      0.225   -1814.988    7633.293\n",
      "V86        -1541.9947   2625.352     -0.587      0.558   -6742.796    3658.807\n",
      "V87         -272.2974   3024.450     -0.090      0.928   -6263.710    5719.115\n",
      "V88          130.2017   2904.283      0.045      0.964   -5623.161    5883.565\n",
      "V89        -2009.6418   2513.018     -0.800      0.426   -6987.912    2968.628\n",
      "V90         1893.3240   2671.000      0.709      0.480   -3397.906    7184.554\n",
      "V91        -1058.8643   2968.751     -0.357      0.722   -6939.936    4822.208\n",
      "V92         3276.0263   2763.166      1.186      0.238   -2197.785    8749.838\n",
      "V93        -2130.6794   2278.897     -0.935      0.352   -6645.157    2383.798\n",
      "V94          200.8496   2101.805      0.096      0.924   -3962.809    4364.509\n",
      "V95          156.5398   1812.442      0.086      0.931   -3433.894    3746.974\n",
      "V96        -1177.1044   1601.304     -0.735      0.464   -4349.275    1995.066\n",
      "V97         -112.7557   1529.454     -0.074      0.941   -3142.593    2917.081\n",
      "V98          -89.0066   1410.619     -0.063      0.950   -2883.433    2705.419\n",
      "V99         1051.4592   1517.342      0.693      0.490   -1954.383    4057.302\n",
      "V100        -222.4339    688.725     -0.323      0.747   -1586.792    1141.924\n",
      "==============================================================================\n",
      "Omnibus:                        4.761   Durbin-Watson:                   1.801\n",
      "Prob(Omnibus):                  0.092   Jarque-Bera (JB):                6.495\n",
      "Skew:                           0.028   Prob(JB):                       0.0389\n",
      "Kurtosis:                       3.850   Cond. No.                     1.62e+07\n",
      "==============================================================================\n",
      "\n",
      "Notes:\n",
      "[1] Standard Errors assume that the covariance matrix of the errors is correctly specified.\n",
      "[2] The condition number is large, 1.62e+07. This might indicate that there are\n",
      "strong multicollinearity or other numerical problems.\n",
      "The number of parameter are 101\n"
     ]
    }
   ],
   "source": [
    "#building a linear regression including a log to the endogenous variable\n",
    "model_1=smf.ols(form_1, data=data).fit()\n",
    "print(model_1.summary())\n",
    "# the number of paramaters\n",
    "print(f\"The number of parameter are {len(model_1.params)}\")"
   ]
  },
  {
   "cell_type": "code",
   "execution_count": 16,
   "id": "c39749e1",
   "metadata": {},
   "outputs": [
    {
     "name": "stdout",
     "output_type": "stream",
     "text": [
      "R-squared for the basic model 1:  0.9951112661587652 \n",
      "\n",
      "adjusted R-squared for the basic model 1:  0.9908229031401382 \n",
      "\n",
      "R-squared for the basic model 2:  0.9544450178632867 \n",
      "\n",
      "adjusted R-squared for the basic model 2:  0.914484507217047 \n",
      "\n"
     ]
    }
   ],
   "source": [
    "# Assess the predictive performance\n",
    "R2_1 = model_0.rsquared\n",
    "print(\"R-squared for the basic model 1: \", R2_1, \"\\n\")\n",
    "R2_adj1 = model_0.rsquared_adj\n",
    "print(\"adjusted R-squared for the basic model 1: \", R2_adj1, \"\\n\")\n",
    "\n",
    "\n",
    "R2_2 = model_1.rsquared\n",
    "print(\"R-squared for the basic model 2: \", R2_2, \"\\n\")\n",
    "R2_adj2 = model_1.rsquared_adj\n",
    "print(\"adjusted R-squared for the basic model 2: \", R2_adj2, \"\\n\")"
   ]
  },
  {
   "cell_type": "code",
   "execution_count": 17,
   "id": "0774bc5d",
   "metadata": {},
   "outputs": [
    {
     "name": "stdout",
     "output_type": "stream",
     "text": [
      "MSE for the basic model 1:  0.7898248589116633 \n",
      "\n",
      "adjusted MSE for the basic model 1:  1.4895819707544529 \n",
      "\n",
      "MSE for the flexible model 2:  0.029050319489163614 \n",
      "\n",
      "adjusted MSE for the flexible model 2:  0.05478788324710682 \n",
      "\n"
     ]
    }
   ],
   "source": [
    "# calculating the MSE\n",
    "MSE1 =  np.mean(model_0.resid**2)\n",
    "print(\"MSE for the basic model 1: \", MSE1, \"\\n\")\n",
    "p1 = len(model_0.params) # number of regressors\n",
    "n = len(data)\n",
    "MSE_adj1  = (n/(n-p1))*MSE1\n",
    "print(\"adjusted MSE for the basic model 1: \", MSE_adj1, \"\\n\")\n",
    "\n",
    "MSE2 =  np.mean(model_1.resid**2)\n",
    "print(\"MSE for the flexible model 2: \", MSE2, \"\\n\")\n",
    "p2 = len(model_1.params) # number of regressors\n",
    "n = len(data)\n",
    "MSE_adj2  = (n/(n-p2))*MSE2\n",
    "print(\"adjusted MSE for the flexible model 2: \", MSE_adj2, \"\\n\")"
   ]
  },
  {
   "cell_type": "code",
   "execution_count": 18,
   "id": "deb660ed",
   "metadata": {},
   "outputs": [
    {
     "data": {
      "text/html": [
       "<div>\n",
       "<style scoped>\n",
       "    .dataframe tbody tr th:only-of-type {\n",
       "        vertical-align: middle;\n",
       "    }\n",
       "\n",
       "    .dataframe tbody tr th {\n",
       "        vertical-align: top;\n",
       "    }\n",
       "\n",
       "    .dataframe thead th {\n",
       "        text-align: right;\n",
       "    }\n",
       "</style>\n",
       "<table border=\"1\" class=\"dataframe\">\n",
       "  <thead>\n",
       "    <tr style=\"text-align: right;\">\n",
       "      <th></th>\n",
       "      <th>$R^2_{basic}$</th>\n",
       "      <th>$R^2_{adjusted}$</th>\n",
       "      <th>$MSE_{1}$</th>\n",
       "      <th>$MSE_{adjusted}$</th>\n",
       "    </tr>\n",
       "  </thead>\n",
       "  <tbody>\n",
       "    <tr>\n",
       "      <th>first_model</th>\n",
       "      <td>0.995111</td>\n",
       "      <td>0.990823</td>\n",
       "      <td>0.789825</td>\n",
       "      <td>1.489582</td>\n",
       "    </tr>\n",
       "    <tr>\n",
       "      <th>log(second_model)</th>\n",
       "      <td>0.954445</td>\n",
       "      <td>0.914485</td>\n",
       "      <td>0.029050</td>\n",
       "      <td>0.054788</td>\n",
       "    </tr>\n",
       "  </tbody>\n",
       "</table>\n",
       "</div>"
      ],
      "text/plain": [
       "                   $R^2_{basic}$  $R^2_{adjusted}$  $MSE_{1}$  \\\n",
       "first_model             0.995111          0.990823   0.789825   \n",
       "log(second_model)       0.954445          0.914485   0.029050   \n",
       "\n",
       "                   $MSE_{adjusted}$  \n",
       "first_model                1.489582  \n",
       "log(second_model)          0.054788  "
      ]
     },
     "execution_count": 18,
     "metadata": {},
     "output_type": "execute_result"
    }
   ],
   "source": [
    "#making a table using numpy librarie\n",
    "table=np.zeros((2,4))\n",
    "table[0,0:4] = [R2_1,R2_adj1,MSE1,MSE_adj1]\n",
    "table[1,0:4] = [R2_2,R2_adj2,MSE2,MSE_adj2]\n",
    "\n",
    "\n",
    "table = pd.DataFrame(table, columns = [\"$R^2_{basic}$\",\"$R^2_{adjusted}$\",\"$MSE_{1}$\",\"$MSE_{adjusted}$\"], \\\n",
    "                      index = [\"first_model\",\"log(second_model)\"]\n",
    "\n",
    "                     )\n",
    "#showing the data.frame\n",
    "table"
   ]
  },
  {
   "cell_type": "markdown",
   "id": "a787df1d",
   "metadata": {},
   "source": [
    "I notice if the reseacher wants to apply a log to the endogenous variables, so it doesnt change the model, becaouse the ${R^2}$ around  0.99 and 0.95. In that sense, applying log is not the best methodololy to predict the **fat** variable. Also, the $MSE_{adjusted}$, the best model´s performance is for *log(second_model)*. Let´s chech other regressions such as : *Lasso Regression*, *Ridge Regression* and *Elastic Net* to see how they perform its respective results. Also, I didn´t use the the Machine Learning methods in this case to train and test the algorithm. Let´s do it."
   ]
  },
  {
   "cell_type": "markdown",
   "id": "43130019",
   "metadata": {},
   "source": [
    "## 1.3.Using Sklearn: OLS not log()"
   ]
  },
  {
   "cell_type": "code",
   "execution_count": 19,
   "id": "e5e73737",
   "metadata": {},
   "outputs": [],
   "source": [
    "# In this case, I dont need the log_fat, because I am going to normalize the variables.\n",
    "del data[\"log_fat\"]\n",
    "# Exogenous variables\n",
    "X=data.drop(columns=\"fat\")\n",
    "# Endogenous variable\n",
    "Y=data.fat"
   ]
  },
  {
   "cell_type": "code",
   "execution_count": 20,
   "id": "3fae24d1",
   "metadata": {},
   "outputs": [],
   "source": [
    "#splitting the data in train and test set\n",
    "X_train,X_test,Y_train,Y_test=train_test_split(X,Y, test_size=0.3, random_state=1234, shuffle=True)"
   ]
  },
  {
   "cell_type": "code",
   "execution_count": 21,
   "id": "2bff52c9",
   "metadata": {},
   "outputs": [
    {
     "data": {
      "text/plain": [
       "LinearRegression(normalize=True)"
      ]
     },
     "execution_count": 21,
     "metadata": {},
     "output_type": "execute_result"
    }
   ],
   "source": [
    "ols_model=LinearRegression(normalize=True)\n",
    "ols_model.fit(X_train,Y_train)"
   ]
  },
  {
   "cell_type": "code",
   "execution_count": 22,
   "id": "82888001",
   "metadata": {},
   "outputs": [
    {
     "name": "stdout",
     "output_type": "stream",
     "text": [
      "This is the intercept of OLS model 7.958594621019557\n"
     ]
    }
   ],
   "source": [
    "print(f\"This is the intercept of OLS model {ols_model.intercept_}\")"
   ]
  },
  {
   "cell_type": "code",
   "execution_count": 23,
   "id": "6c1ca025",
   "metadata": {},
   "outputs": [
    {
     "data": {
      "text/plain": [
       "array([36.88226752, 62.47992661, 61.04825535,  9.95161352, 18.11993067,\n",
       "        6.56158193, 28.42860453,  9.18085599, 15.56800749, 16.50461443])"
      ]
     },
     "execution_count": 23,
     "metadata": {},
     "output_type": "execute_result"
    }
   ],
   "source": [
    "predicciones_ols = ols_model.predict(X=X_test)\n",
    "predicciones_ols = predicciones_ols.flatten()\n",
    "predicciones_ols[:10]"
   ]
  },
  {
   "cell_type": "code",
   "execution_count": 24,
   "id": "de4c34c3",
   "metadata": {},
   "outputs": [
    {
     "name": "stdout",
     "output_type": "stream",
     "text": [
      "the mean squared error from OLS 3.839667585676709\n",
      "the score from OLS 0.918670206939467\n"
     ]
    }
   ],
   "source": [
    "rmse_ols=mean_squared_error(Y_test,predicciones_ols, squared=False)\n",
    "socre_ols=ols_model.score(X_test,Y_test)\n",
    "print(f\"the mean squared error from OLS {rmse_ols}\")\n",
    "print(f\"the score from OLS {socre_ols}\")"
   ]
  },
  {
   "cell_type": "markdown",
   "id": "dca0cce1",
   "metadata": {},
   "source": [
    "# 3.Lasso Regression"
   ]
  },
  {
   "cell_type": "code",
   "execution_count": 25,
   "id": "cab1b8f2",
   "metadata": {},
   "outputs": [],
   "source": [
    "#del data[\"log_fat\"]\n",
    "#X=data.drop(columns=\"fat\")\n",
    "#Y=data.fat"
   ]
  },
  {
   "cell_type": "code",
   "execution_count": 26,
   "id": "aceebaff",
   "metadata": {},
   "outputs": [],
   "source": [
    "#splitting the data in train and test set\n",
    "#X_train,X_test,Y_train,Y_test=train_test_split(X,Y, test_size=0.3, random_state=1234, shuffle=True) "
   ]
  },
  {
   "cell_type": "code",
   "execution_count": 27,
   "id": "1d12671b",
   "metadata": {},
   "outputs": [
    {
     "name": "stdout",
     "output_type": "stream",
     "text": [
      "The X train set has 150 observations\n",
      "The X test set has 65 observations\n",
      "The Y train set has 150 observations\n",
      "The Y test set has 65 observations\n"
     ]
    }
   ],
   "source": [
    "print(f\"The X train set has {len(X_train)} observations\")\n",
    "print(f\"The X test set has {len(X_test)} observations\")\n",
    "print(f\"The Y train set has {len(Y_train)} observations\")\n",
    "print(f\"The Y test set has {len(Y_test)} observations\")"
   ]
  },
  {
   "cell_type": "code",
   "execution_count": 28,
   "id": "232d8258",
   "metadata": {},
   "outputs": [
    {
     "data": {
      "text/plain": [
       "LassoCV(alphas=array([1.00000000e-10, 1.16232247e-10, 1.35099352e-10, 1.57029012e-10,\n",
       "       1.82518349e-10, 2.12145178e-10, 2.46581108e-10, 2.86606762e-10,\n",
       "       3.33129479e-10, 3.87203878e-10, 4.50055768e-10, 5.23109931e-10,\n",
       "       6.08022426e-10, 7.06718127e-10, 8.21434358e-10, 9.54771611e-10,\n",
       "       1.10975250e-09, 1.28989026e-09, 1.49926843e-09, 1.74263339e-09,\n",
       "       2.02550194e-09, 2.35428641e-0...\n",
       "       3.14403547e+01, 3.65438307e+01, 4.24757155e+01, 4.93704785e+01,\n",
       "       5.73844165e+01, 6.66991966e+01, 7.75259749e+01, 9.01101825e+01,\n",
       "       1.04737090e+02, 1.21738273e+02, 1.41499130e+02, 1.64467618e+02,\n",
       "       1.91164408e+02, 2.22194686e+02, 2.58261876e+02, 3.00183581e+02,\n",
       "       3.48910121e+02, 4.05546074e+02, 4.71375313e+02, 5.47890118e+02,\n",
       "       6.36824994e+02, 7.40196000e+02, 8.60346442e+02, 1.00000000e+03]),\n",
       "        cv=10, normalize=True)"
      ]
     },
     "execution_count": 28,
     "metadata": {},
     "output_type": "execute_result"
    }
   ],
   "source": [
    "modelo_lasso=LassoCV(alphas=np.logspace(-10,3,200), \n",
    "                    normalize=True,\n",
    "                    cv=10)\n",
    "\n",
    "modelo_lasso.fit(X_train,Y_train)"
   ]
  },
  {
   "cell_type": "code",
   "execution_count": 29,
   "id": "6fd7edac",
   "metadata": {},
   "outputs": [
    {
     "name": "stdout",
     "output_type": "stream",
     "text": [
      "el mejor alpha encotrado para la regresion Lasso 6.44236350872137e-08\n"
     ]
    }
   ],
   "source": [
    "print(f\"el mejor alpha encotrado para la regresion Lasso {modelo_lasso.alpha_}\")"
   ]
  },
  {
   "cell_type": "code",
   "execution_count": 30,
   "id": "1a093e43",
   "metadata": {},
   "outputs": [
    {
     "data": {
      "text/plain": [
       "0.005000064423635087"
      ]
     },
     "execution_count": 30,
     "metadata": {},
     "output_type": "execute_result"
    }
   ],
   "source": [
    "#at this point, I don´t want a low penalty, let´s increase the alpha.\n",
    "\n",
    "new_alpha=modelo_lasso.alpha_ + 0.005\n",
    "new_alpha"
   ]
  },
  {
   "cell_type": "code",
   "execution_count": 31,
   "id": "d826b1fc",
   "metadata": {},
   "outputs": [
    {
     "data": {
      "text/plain": [
       "Lasso(alpha=0.005000064423635087, normalize=True)"
      ]
     },
     "execution_count": 31,
     "metadata": {},
     "output_type": "execute_result"
    }
   ],
   "source": [
    "Lasso_ncv=Lasso(alpha=new_alpha, normalize=True)\n",
    "Lasso_ncv.fit(X_train,Y_train)"
   ]
  },
  {
   "cell_type": "code",
   "execution_count": 33,
   "id": "425ba145",
   "metadata": {},
   "outputs": [
    {
     "data": {
      "image/png": "[encoded data removed]",
      "text/plain": [
       "<Figure size 504x276.48 with 1 Axes>"
      ]
     },
     "metadata": {
      "needs_background": "light"
     },
     "output_type": "display_data"
    }
   ],
   "source": [
    "#Let see how the new alpha penalty the Lasso Model\n",
    "\n",
    "alphas = modelo_lasso.alphas_\n",
    "coefs = []\n",
    "\n",
    "for alpha in alphas:\n",
    "    modelo_temp = Lasso(alpha=alpha, fit_intercept=False, normalize=True)\n",
    "    modelo_temp.fit(X_train, Y_train)\n",
    "    coefs.append(modelo_temp.coef_.flatten())\n",
    "\n",
    "fig, ax = plt.subplots(figsize=(7, 3.84))\n",
    "ax.plot(alphas, coefs)\n",
    "ax.set_xscale('log')\n",
    "ax.set_ylim([-15,None])\n",
    "ax.set_xlabel('alpha')\n",
    "ax.set_ylabel('coeficientes')\n",
    "ax.set_title('Coeficientes del modelo en función de la regularización');"
   ]
  },
  {
   "cell_type": "code",
   "execution_count": 34,
   "id": "6698bd47",
   "metadata": {},
   "outputs": [
    {
     "name": "stdout",
     "output_type": "stream",
     "text": [
      "   Predictors       coef\n",
      "0          V1  10.115632\n",
      "8          V9  -8.712361\n",
      "9         V10 -15.439898\n",
      "10        V11 -13.925502\n",
      "11        V12 -12.472525\n",
      "12        V13 -11.125491\n",
      "13        V14  -9.833484\n",
      "14        V15  -8.733664\n",
      "15        V16  -7.831291\n",
      "16        V17  -7.127346\n",
      "17        V18  -6.242133\n",
      "18        V19  -5.451163\n",
      "19        V20  -4.764216\n",
      "20        V21  -3.972969\n",
      "21        V22  -2.977855\n",
      "22        V23  -2.082574\n",
      "23        V24  -1.485242\n",
      "24        V25  -1.164259\n",
      "25        V26  -0.900578\n",
      "26        V27  -0.256838\n",
      "33        V34   0.862816\n",
      "34        V35  24.145609\n",
      "35        V36  24.559243\n",
      "36        V37  26.018176\n",
      "37        V38  26.119989\n",
      "38        V39  23.491653\n",
      "39        V40  17.433481\n",
      "40        V41   7.797600\n",
      "47        V48  -3.156622\n",
      "48        V49 -23.671184\n",
      "49        V50 -11.054211\n",
      "50        V51  -4.464134\n",
      "51        V52  -2.111150\n",
      "52        V53  -0.277173\n",
      "Number of parameters taken by LASSO Regression, (34, 2)\n"
     ]
    }
   ],
   "source": [
    "coef_=pd.DataFrame({\"Predictors\":X_train.columns, \"coef\":Lasso_ncv.coef_.flatten()})\n",
    "\n",
    "LASSO=coef_[coef_[\"coef\"]!=0]\n",
    "print(LASSO)\n",
    "# This results show how many predictors variables were taken by LASSO Regression using a high penalty (alpha=0.005)\n",
    "# If the alpha were less than 0.005, so the results take all the predictors form the dataset\n",
    "print(f\"Number of parameters taken by LASSO Regression, {LASSO.shape}\")"
   ]
  },
  {
   "cell_type": "code",
   "execution_count": 35,
   "id": "ee0e5491",
   "metadata": {},
   "outputs": [
    {
     "data": {
      "image/png": "[encoded data removed]",
      "text/plain": [
       "<Figure size 792x276.48 with 1 Axes>"
      ]
     },
     "metadata": {
      "needs_background": "light"
     },
     "output_type": "display_data"
    }
   ],
   "source": [
    "fig, ax = plt.subplots(figsize=(11, 3.84))\n",
    "ax.stem(coef_.Predictors, coef_.coef, markerfmt=' ')\n",
    "plt.xticks(rotation=90, ha='right', size=5)\n",
    "ax.set_xlabel('variable')\n",
    "ax.set_ylabel('coeficientes')\n",
    "ax.set_title('Coeficientes del modelo');"
   ]
  },
  {
   "cell_type": "code",
   "execution_count": 36,
   "id": "d7187e28",
   "metadata": {},
   "outputs": [
    {
     "data": {
      "text/plain": [
       "array([34.74551517, 55.14441938, 36.95307616, 11.18053943, 15.10322335,\n",
       "        6.30106633, 24.86098073,  7.46309521, 13.13794318, 18.22267952])"
      ]
     },
     "execution_count": 36,
     "metadata": {},
     "output_type": "execute_result"
    }
   ],
   "source": [
    "prediction=Lasso_ncv.predict(X_test)\n",
    "prediction=prediction.flatten()\n",
    "prediction[:10]"
   ]
  },
  {
   "cell_type": "code",
   "execution_count": 37,
   "id": "5ccd4e8c",
   "metadata": {},
   "outputs": [
    {
     "name": "stdout",
     "output_type": "stream",
     "text": [
      "the mean squared error from Lasso Regression is 3.5474675066543235\n",
      "the score from Lasso Regression is 0.9305776573781306\n"
     ]
    }
   ],
   "source": [
    "rmse_lasso=mean_squared_error(Y_test, prediction, squared=False)\n",
    "rmse_lasso\n",
    "\n",
    "rsquared_lasso=Lasso_ncv.score(X_test,Y_test)\n",
    "print(f\"the mean squared error from Lasso Regression is {rmse_lasso}\")\n",
    "print(f\"the score from Lasso Regression is {rsquared_lasso}\")"
   ]
  },
  {
   "cell_type": "markdown",
   "id": "e6a5461f",
   "metadata": {},
   "source": [
    "# Ridge Regression"
   ]
  },
  {
   "cell_type": "code",
   "execution_count": 38,
   "id": "daa09b62",
   "metadata": {},
   "outputs": [],
   "source": [
    "modelo_ridge=RidgeCV(alphas=np.logspace(-10,2,200),\n",
    "                     fit_intercept=True,\n",
    "                     normalize=True,\n",
    "                     store_cv_values=True\n",
    "                    )\n",
    "\n",
    "modelo_ridge_fit=modelo_ridge.fit(X_train,Y_train)"
   ]
  },
  {
   "cell_type": "code",
   "execution_count": 39,
   "id": "1e675e75",
   "metadata": {},
   "outputs": [
    {
     "name": "stdout",
     "output_type": "stream",
     "text": [
      "el mejor alpha encotrado para la regresion Ridge 2.9673024081888725e-08\n"
     ]
    }
   ],
   "source": [
    "print(f\"el mejor alpha encotrado para la regresion Ridge {modelo_ridge_fit.alpha_}\")"
   ]
  },
  {
   "cell_type": "code",
   "execution_count": 40,
   "id": "4bc7ea70",
   "metadata": {},
   "outputs": [
    {
     "data": {
      "text/plain": [
       "Ridge(alpha=2.9673024081888725e-08, normalize=True)"
      ]
     },
     "execution_count": 40,
     "metadata": {},
     "output_type": "execute_result"
    }
   ],
   "source": [
    "Ridge_ncv=Ridge(alpha=modelo_ridge_fit.alpha_, normalize=True)\n",
    "Ridge_ncv.fit(X_train, Y_train)"
   ]
  },
  {
   "cell_type": "code",
   "execution_count": 41,
   "id": "08774fc5",
   "metadata": {},
   "outputs": [
    {
     "data": {
      "text/plain": [
       "(2.5118864315095823e-11,\n",
       " 398.1071705534973,\n",
       " -17589.514891683746,\n",
       " 19315.637083495727)"
      ]
     },
     "execution_count": 41,
     "metadata": {},
     "output_type": "execute_result"
    },
    {
     "data": {
      "image/png": "[encoded data removed]",
      "text/plain": [
       "<Figure size 1440x432 with 1 Axes>"
      ]
     },
     "metadata": {
      "needs_background": "light"
     },
     "output_type": "display_data"
    }
   ],
   "source": [
    "coefs = []\n",
    "errors = []\n",
    "\n",
    "alphas = np.logspace(-10,2, 200)\n",
    "\n",
    "# Train the model with different regularisation strengths\n",
    "for a in alphas:\n",
    "    Ridge_ncv.set_params(alpha=a)\n",
    "    Ridge_ncv.fit(X_train, Y_train)\n",
    "    coefs.append(Ridge_ncv.coef_)\n",
    "\n",
    "plt.figure(figsize=(20, 6))\n",
    "\n",
    "plt.subplot(121)\n",
    "ax = plt.gca()\n",
    "ax.plot(alphas, coefs)\n",
    "ax.set_xscale(\"log\")\n",
    "plt.xlabel(\"alpha\")\n",
    "plt.ylabel(\"weights\")\n",
    "plt.title(\"Ridge coefficients as a function of the regularization\")\n",
    "plt.axis(\"tight\")"
   ]
  },
  {
   "cell_type": "code",
   "execution_count": 42,
   "id": "1ca931ed",
   "metadata": {},
   "outputs": [
    {
     "data": {
      "text/html": [
       "<div>\n",
       "<style scoped>\n",
       "    .dataframe tbody tr th:only-of-type {\n",
       "        vertical-align: middle;\n",
       "    }\n",
       "\n",
       "    .dataframe tbody tr th {\n",
       "        vertical-align: top;\n",
       "    }\n",
       "\n",
       "    .dataframe thead th {\n",
       "        text-align: right;\n",
       "    }\n",
       "</style>\n",
       "<table border=\"1\" class=\"dataframe\">\n",
       "  <thead>\n",
       "    <tr style=\"text-align: right;\">\n",
       "      <th></th>\n",
       "      <th>predictors</th>\n",
       "      <th>coef</th>\n",
       "    </tr>\n",
       "  </thead>\n",
       "  <tbody>\n",
       "    <tr>\n",
       "      <th>0</th>\n",
       "      <td>V1</td>\n",
       "      <td>1256.770356</td>\n",
       "    </tr>\n",
       "    <tr>\n",
       "      <th>1</th>\n",
       "      <td>V2</td>\n",
       "      <td>-681.801070</td>\n",
       "    </tr>\n",
       "    <tr>\n",
       "      <th>2</th>\n",
       "      <td>V3</td>\n",
       "      <td>-568.504974</td>\n",
       "    </tr>\n",
       "    <tr>\n",
       "      <th>3</th>\n",
       "      <td>V4</td>\n",
       "      <td>-598.870729</td>\n",
       "    </tr>\n",
       "    <tr>\n",
       "      <th>4</th>\n",
       "      <td>V5</td>\n",
       "      <td>-1023.083316</td>\n",
       "    </tr>\n",
       "    <tr>\n",
       "      <th>...</th>\n",
       "      <td>...</td>\n",
       "      <td>...</td>\n",
       "    </tr>\n",
       "    <tr>\n",
       "      <th>95</th>\n",
       "      <td>V96</td>\n",
       "      <td>-1054.878412</td>\n",
       "    </tr>\n",
       "    <tr>\n",
       "      <th>96</th>\n",
       "      <td>V97</td>\n",
       "      <td>-910.280296</td>\n",
       "    </tr>\n",
       "    <tr>\n",
       "      <th>97</th>\n",
       "      <td>V98</td>\n",
       "      <td>-558.510770</td>\n",
       "    </tr>\n",
       "    <tr>\n",
       "      <th>98</th>\n",
       "      <td>V99</td>\n",
       "      <td>44.378422</td>\n",
       "    </tr>\n",
       "    <tr>\n",
       "      <th>99</th>\n",
       "      <td>V100</td>\n",
       "      <td>2151.569626</td>\n",
       "    </tr>\n",
       "  </tbody>\n",
       "</table>\n",
       "<p>100 rows × 2 columns</p>\n",
       "</div>"
      ],
      "text/plain": [
       "   predictors         coef\n",
       "0          V1  1256.770356\n",
       "1          V2  -681.801070\n",
       "2          V3  -568.504974\n",
       "3          V4  -598.870729\n",
       "4          V5 -1023.083316\n",
       "..        ...          ...\n",
       "95        V96 -1054.878412\n",
       "96        V97  -910.280296\n",
       "97        V98  -558.510770\n",
       "98        V99    44.378422\n",
       "99       V100  2151.569626\n",
       "\n",
       "[100 rows x 2 columns]"
      ]
     },
     "execution_count": 42,
     "metadata": {},
     "output_type": "execute_result"
    }
   ],
   "source": [
    "rigde_frame=pd.DataFrame({\n",
    "    \"predictors\":X_train.columns,\n",
    "    \"coef\":modelo_ridge.coef_.flatten()\n",
    "})\n",
    "\n",
    "rigde_frame"
   ]
  },
  {
   "cell_type": "code",
   "execution_count": 43,
   "id": "6dd1d05e",
   "metadata": {},
   "outputs": [
    {
     "data": {
      "image/png": "[encoded data removed]",
      "text/plain": [
       "<Figure size 792x276.48 with 1 Axes>"
      ]
     },
     "metadata": {
      "needs_background": "light"
     },
     "output_type": "display_data"
    }
   ],
   "source": [
    "fig, ax = plt.subplots(figsize=(11, 3.84))\n",
    "ax.stem(rigde_frame.predictors, rigde_frame.coef, markerfmt=' ')\n",
    "plt.xticks(rotation=90, ha='right', size=5)\n",
    "ax.set_xlabel('variable')\n",
    "ax.set_ylabel('coeficientes')\n",
    "ax.set_title('Coeficientes del modelo');"
   ]
  },
  {
   "cell_type": "code",
   "execution_count": 44,
   "id": "3a0ef9e0",
   "metadata": {},
   "outputs": [
    {
     "data": {
      "text/plain": [
       "array([43.14618168, 40.39693955, 51.81659479,  9.99905555, 17.8849567 ,\n",
       "        7.64777599, 28.17638046,  8.2146242 , 14.71056183, 14.38270438])"
      ]
     },
     "execution_count": 44,
     "metadata": {},
     "output_type": "execute_result"
    }
   ],
   "source": [
    "prediction_1=modelo_ridge.predict(X_test)\n",
    "prediction_1=prediction_1.flatten()\n",
    "prediction_1[:10]"
   ]
  },
  {
   "cell_type": "code",
   "execution_count": 45,
   "id": "6ee2e68e",
   "metadata": {},
   "outputs": [
    {
     "name": "stdout",
     "output_type": "stream",
     "text": [
      "the mean squared error from Ridge Regression is 2.4486445458351676\n",
      "the score from Ridge Regression is 0.14399420844059097\n"
     ]
    }
   ],
   "source": [
    "rmse_ridge=mean_squared_error(Y_test, prediction_1, squared=False)\n",
    "\n",
    "score_ridge=Ridge_ncv.score(X_test,Y_test)\n",
    "\n",
    "print(f\"the mean squared error from Ridge Regression is {rmse_ridge}\")\n",
    "print(f\"the score from Ridge Regression is {score_ridge}\")\n"
   ]
  },
  {
   "cell_type": "markdown",
   "id": "39903b7f",
   "metadata": {},
   "source": [
    "# Elastic-Net Regression:"
   ]
  },
  {
   "cell_type": "code",
   "execution_count": 46,
   "id": "af568684",
   "metadata": {},
   "outputs": [
    {
     "data": {
      "text/plain": [
       "ElasticNetCV(alphas=array([1.00000000e-10, 1.16232247e-10, 1.35099352e-10, 1.57029012e-10,\n",
       "       1.82518349e-10, 2.12145178e-10, 2.46581108e-10, 2.86606762e-10,\n",
       "       3.33129479e-10, 3.87203878e-10, 4.50055768e-10, 5.23109931e-10,\n",
       "       6.08022426e-10, 7.06718127e-10, 8.21434358e-10, 9.54771611e-10,\n",
       "       1.10975250e-09, 1.28989026e-09, 1.49926843e-09, 1.74263339e-09,\n",
       "       2.02550194e-09, 2.354286...\n",
       "       3.14403547e+01, 3.65438307e+01, 4.24757155e+01, 4.93704785e+01,\n",
       "       5.73844165e+01, 6.66991966e+01, 7.75259749e+01, 9.01101825e+01,\n",
       "       1.04737090e+02, 1.21738273e+02, 1.41499130e+02, 1.64467618e+02,\n",
       "       1.91164408e+02, 2.22194686e+02, 2.58261876e+02, 3.00183581e+02,\n",
       "       3.48910121e+02, 4.05546074e+02, 4.71375313e+02, 5.47890118e+02,\n",
       "       6.36824994e+02, 7.40196000e+02, 8.60346442e+02, 1.00000000e+03]),\n",
       "             cv=10, normalize=True)"
      ]
     },
     "execution_count": 46,
     "metadata": {},
     "output_type": "execute_result"
    }
   ],
   "source": [
    "modelo=ElasticNetCV(alphas=np.logspace(-10,3,200), normalize=True, cv=10)\n",
    "modelo.fit(X_train,Y_train)"
   ]
  },
  {
   "cell_type": "code",
   "execution_count": 47,
   "id": "c42bf18f",
   "metadata": {},
   "outputs": [
    {
     "name": "stdout",
     "output_type": "stream",
     "text": [
      "The best alpha found using Elastic Net regression is 6.080224261649427e-10\n"
     ]
    }
   ],
   "source": [
    "print(f\"The best alpha found using Elastic Net regression is {modelo.alpha_}\")"
   ]
  },
  {
   "cell_type": "code",
   "execution_count": 48,
   "id": "a578450f",
   "metadata": {
    "scrolled": true
   },
   "outputs": [
    {
     "data": {
      "image/png": "[encoded data removed]",
      "text/plain": [
       "<Figure size 792x276.48 with 1 Axes>"
      ]
     },
     "metadata": {
      "needs_background": "light"
     },
     "output_type": "display_data"
    }
   ],
   "source": [
    "elastic_frame=pd.DataFrame({\n",
    "    \"predictores\":X_train.columns,\n",
    "    \"coef\":modelo.coef_\n",
    "})\n",
    "\n",
    "fig, ax = plt.subplots(figsize=(11, 3.84))\n",
    "ax.stem(elastic_frame.predictores, elastic_frame.coef, markerfmt=' ')\n",
    "plt.xticks(rotation=90, ha='right', size=5)\n",
    "ax.set_xlabel('variable')\n",
    "ax.set_ylabel('coeficientes')\n",
    "ax.set_title('Coeficientes del modelo');"
   ]
  },
  {
   "cell_type": "code",
   "execution_count": 49,
   "id": "8e0cf5c6",
   "metadata": {},
   "outputs": [
    {
     "data": {
      "text/plain": [
       "array([21.92828135, 57.15044041, 44.91257335, 11.16299364, 15.8769551 ,\n",
       "        5.41737977, 25.66493096,  9.81313565, 13.52379405, 22.91333803])"
      ]
     },
     "execution_count": 49,
     "metadata": {},
     "output_type": "execute_result"
    }
   ],
   "source": [
    "predictores=modelo.predict(X_test)\n",
    "predictores[:10]"
   ]
  },
  {
   "cell_type": "code",
   "execution_count": 50,
   "id": "8c758b57",
   "metadata": {},
   "outputs": [
    {
     "name": "stdout",
     "output_type": "stream",
     "text": [
      "the mean squared error from elastic net is 5.2329373073974566\n",
      "the score from elastic net is 0.848938610278291\n"
     ]
    }
   ],
   "source": [
    "rmse_elastic=mean_squared_error(Y_test, predictores, squared=False)\n",
    "score_elastic=modelo.score(X_test,Y_test)\n",
    "print(f\"the mean squared error from elastic net is {rmse_elastic}\")\n",
    "print(f\"the score from elastic net is {score_elastic}\")"
   ]
  },
  {
   "cell_type": "markdown",
   "id": "8803b9f8",
   "metadata": {},
   "source": [
    "# Conclusion:"
   ]
  },
  {
   "cell_type": "code",
   "execution_count": 51,
   "id": "7c1ac2fa",
   "metadata": {},
   "outputs": [
    {
     "data": {
      "text/html": [
       "<div>\n",
       "<style scoped>\n",
       "    .dataframe tbody tr th:only-of-type {\n",
       "        vertical-align: middle;\n",
       "    }\n",
       "\n",
       "    .dataframe tbody tr th {\n",
       "        vertical-align: top;\n",
       "    }\n",
       "\n",
       "    .dataframe thead th {\n",
       "        text-align: right;\n",
       "    }\n",
       "</style>\n",
       "<table border=\"1\" class=\"dataframe\">\n",
       "  <thead>\n",
       "    <tr style=\"text-align: right;\">\n",
       "      <th></th>\n",
       "      <th>Model</th>\n",
       "      <th>MSE</th>\n",
       "    </tr>\n",
       "  </thead>\n",
       "  <tbody>\n",
       "    <tr>\n",
       "      <th>0</th>\n",
       "      <td>OLS</td>\n",
       "      <td>0.789825</td>\n",
       "    </tr>\n",
       "    <tr>\n",
       "      <th>1</th>\n",
       "      <td>OLS_log</td>\n",
       "      <td>0.029050</td>\n",
       "    </tr>\n",
       "    <tr>\n",
       "      <th>2</th>\n",
       "      <td>OLS_skl</td>\n",
       "      <td>3.839668</td>\n",
       "    </tr>\n",
       "    <tr>\n",
       "      <th>3</th>\n",
       "      <td>Lasso</td>\n",
       "      <td>3.547468</td>\n",
       "    </tr>\n",
       "    <tr>\n",
       "      <th>4</th>\n",
       "      <td>Ridge</td>\n",
       "      <td>2.448645</td>\n",
       "    </tr>\n",
       "    <tr>\n",
       "      <th>5</th>\n",
       "      <td>Elastic_Net</td>\n",
       "      <td>5.232937</td>\n",
       "    </tr>\n",
       "  </tbody>\n",
       "</table>\n",
       "</div>"
      ],
      "text/plain": [
       "         Model       MSE\n",
       "0          OLS  0.789825\n",
       "1      OLS_log  0.029050\n",
       "2      OLS_skl  3.839668\n",
       "3        Lasso  3.547468\n",
       "4        Ridge  2.448645\n",
       "5  Elastic_Net  5.232937"
      ]
     },
     "execution_count": 51,
     "metadata": {},
     "output_type": "execute_result"
    }
   ],
   "source": [
    "df_comparation=pd.DataFrame({\n",
    "    \"Model\":[\"OLS\",\"OLS_log\",\"OLS_skl\",\"Lasso\",\"Ridge\",\"Elastic_Net\"],\n",
    "    \"MSE\":[MSE1,MSE2,rmse_ols,rmse_lasso,rmse_ridge,rmse_elastic]\n",
    "})\n",
    "\n",
    "\n",
    "df_comparation"
   ]
  },
  {
   "cell_type": "code",
   "execution_count": 52,
   "id": "1711a4e7",
   "metadata": {},
   "outputs": [
    {
     "data": {
      "image/png": "[encoded data removed]",
      "text/plain": [
       "<Figure size 1080x360 with 1 Axes>"
      ]
     },
     "metadata": {
      "needs_background": "light"
     },
     "output_type": "display_data"
    }
   ],
   "source": [
    "plt.figure(figsize=(15,5))\n",
    "sns.barplot(x=\"MSE\",y=\"Model\",data=df_comparation, palette=\"rocket\")\n",
    "plt.title(\"The Mean Squared Error (${MSE}$) of each model\", fontsize=14)\n",
    "plt.xlabel(\"Mean Squared Error (MSE)\", fontsize=12)\n",
    "plt.ylabel(\"Models\", fontsize=12)\n",
    "plt.show()"
   ]
  },
  {
   "cell_type": "code",
   "execution_count": 53,
   "id": "80d246c7",
   "metadata": {},
   "outputs": [],
   "source": [
    "df_comparation_1=pd.DataFrame({\n",
    "    \"Model\":[\"OLS\",\"OLS_log\",\"OLS_skl\",\"Lasso\",\"Ridge\",\"Elastic_Net\"],\n",
    "    \"Score\":[R2_1,R2_2,socre_ols,rsquared_lasso,score_ridge,score_elastic]\n",
    "})\n"
   ]
  },
  {
   "cell_type": "code",
   "execution_count": 54,
   "id": "266e886d",
   "metadata": {},
   "outputs": [
    {
     "data": {
      "text/html": [
       "<div>\n",
       "<style scoped>\n",
       "    .dataframe tbody tr th:only-of-type {\n",
       "        vertical-align: middle;\n",
       "    }\n",
       "\n",
       "    .dataframe tbody tr th {\n",
       "        vertical-align: top;\n",
       "    }\n",
       "\n",
       "    .dataframe thead th {\n",
       "        text-align: right;\n",
       "    }\n",
       "</style>\n",
       "<table border=\"1\" class=\"dataframe\">\n",
       "  <thead>\n",
       "    <tr style=\"text-align: right;\">\n",
       "      <th></th>\n",
       "      <th>Model</th>\n",
       "      <th>Score</th>\n",
       "    </tr>\n",
       "  </thead>\n",
       "  <tbody>\n",
       "    <tr>\n",
       "      <th>0</th>\n",
       "      <td>OLS</td>\n",
       "      <td>0.995111</td>\n",
       "    </tr>\n",
       "    <tr>\n",
       "      <th>1</th>\n",
       "      <td>OLS_log</td>\n",
       "      <td>0.954445</td>\n",
       "    </tr>\n",
       "    <tr>\n",
       "      <th>2</th>\n",
       "      <td>OLS_skl</td>\n",
       "      <td>0.918670</td>\n",
       "    </tr>\n",
       "    <tr>\n",
       "      <th>3</th>\n",
       "      <td>Lasso</td>\n",
       "      <td>0.930578</td>\n",
       "    </tr>\n",
       "    <tr>\n",
       "      <th>4</th>\n",
       "      <td>Ridge</td>\n",
       "      <td>0.143994</td>\n",
       "    </tr>\n",
       "    <tr>\n",
       "      <th>5</th>\n",
       "      <td>Elastic_Net</td>\n",
       "      <td>0.848939</td>\n",
       "    </tr>\n",
       "  </tbody>\n",
       "</table>\n",
       "</div>"
      ],
      "text/plain": [
       "         Model     Score\n",
       "0          OLS  0.995111\n",
       "1      OLS_log  0.954445\n",
       "2      OLS_skl  0.918670\n",
       "3        Lasso  0.930578\n",
       "4        Ridge  0.143994\n",
       "5  Elastic_Net  0.848939"
      ]
     },
     "execution_count": 54,
     "metadata": {},
     "output_type": "execute_result"
    }
   ],
   "source": [
    "df_comparation_1"
   ]
  },
  {
   "cell_type": "code",
   "execution_count": 55,
   "id": "242a6908",
   "metadata": {},
   "outputs": [
    {
     "data": {
      "image/png": "[encoded data removed]",
      "text/plain": [
       "<Figure size 1008x432 with 1 Axes>"
      ]
     },
     "metadata": {
      "needs_background": "light"
     },
     "output_type": "display_data"
    }
   ],
   "source": [
    "plt.figure(figsize=(14,6))\n",
    "sns.barplot(x=\"Score\",y=\"Model\",data=df_comparation_1, palette=\"deep\")\n",
    "plt.title(\"The scored of each model\", fontsize=14)\n",
    "plt.xlabel(\"R squared (R2)\", fontsize=12)\n",
    "plt.ylabel(\"Models\", fontsize=12)\n",
    "plt.show()"
   ]
  }
 ],
 "metadata": {
  "kernelspec": {
   "display_name": "Python 3",
   "language": "python",
   "name": "python3"
  },
  "language_info": {
   "codemirror_mode": {
    "name": "ipython",
    "version": 3
   },
   "file_extension": ".py",
   "mimetype": "text/x-python",
   "name": "python",
   "nbconvert_exporter": "python",
   "pygments_lexer": "ipython3",
   "version": "3.8.8"
  }
 },
 "nbformat": 4,
 "nbformat_minor": 5
}
